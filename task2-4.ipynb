{
 "cells": [
  {
   "cell_type": "code",
   "execution_count": 63,
   "metadata": {},
   "outputs": [],
   "source": [
    "# coding:utf8\n",
    "\n",
    "# https://github.com/rougier/numpy-100/blob/master/100_Numpy_exercises_with_solutions.md\n",
    "\n",
    "import numpy as np"
   ]
  },
  {
   "cell_type": "markdown",
   "metadata": {},
   "source": [
    "#### 8-Reverse a vector (first element becomes last) (将数组逆序)"
   ]
  },
  {
   "cell_type": "code",
   "execution_count": 2,
   "metadata": {},
   "outputs": [
    {
     "data": {
      "text/plain": [
       "array([49, 48, 47, 46, 45, 44, 43, 42, 41, 40, 39, 38, 37, 36, 35, 34, 33,\n",
       "       32, 31, 30, 29, 28, 27, 26, 25, 24, 23, 22, 21, 20, 19, 18, 17, 16,\n",
       "       15, 14, 13, 12, 11, 10,  9,  8,  7,  6,  5,  4,  3,  2,  1,  0])"
      ]
     },
     "execution_count": 2,
     "metadata": {},
     "output_type": "execute_result"
    }
   ],
   "source": [
    "arr = np.arange(50)\n",
    "arr = arr[::-1]\n",
    "arr"
   ]
  },
  {
   "cell_type": "markdown",
   "metadata": {},
   "source": [
    "#### 15 - Create a 2d array with 1 on the border and 0 inside (创建2维数组，边界处元素值为1而内部元素值为0)"
   ]
  },
  {
   "cell_type": "code",
   "execution_count": 44,
   "metadata": {},
   "outputs": [
    {
     "name": "stdout",
     "output_type": "stream",
     "text": [
      "5 6\n",
      "[[0 0 0 0 0 0]\n",
      " [0 1 1 1 1 0]\n",
      " [0 1 1 1 1 0]\n",
      " [0 1 1 1 1 0]\n",
      " [0 0 0 0 0 0]]\n"
     ]
    }
   ],
   "source": [
    "# Z = np.ones((10,10))\n",
    "# Z[1:-1,1:-1] = 0\n",
    "# print(Z)\n",
    "\n",
    "m,n = [eval(i) for i in input().split()]\n",
    "size = m*n\n",
    "arr = np.arange(2,size+2).reshape(m,n)\n",
    "arr[:]=1\n",
    "arr[0],arr[-1]=0,0\n",
    "arr[:,0],arr[:,-1]=0,0\n",
    "print(arr)"
   ]
  },
  {
   "cell_type": "markdown",
   "metadata": {},
   "source": [
    "#### 19 - Create a 8x8 matrix and fill it with a checkerboard pattern (创建8x8的2维数组，按照棋盘的黑白相间的格式以1和0交替填充该数组)"
   ]
  },
  {
   "cell_type": "code",
   "execution_count": 43,
   "metadata": {},
   "outputs": [
    {
     "name": "stdout",
     "output_type": "stream",
     "text": [
      "[[1 0 1 0 1 0 1 0]\n",
      " [0 1 0 1 0 1 0 1]\n",
      " [1 0 1 0 1 0 1 0]\n",
      " [0 1 0 1 0 1 0 1]\n",
      " [1 0 1 0 1 0 1 0]\n",
      " [0 1 0 1 0 1 0 1]\n",
      " [1 0 1 0 1 0 1 0]\n",
      " [0 1 0 1 0 1 0 1]]\n"
     ]
    }
   ],
   "source": [
    "# Z = np.zeros((8,8),dtype=int)\n",
    "# Z[1::2,::2] = 1\n",
    "# Z[::2,1::2] = 1\n",
    "# print(Z)\n",
    "\n",
    "arr = np.zeros(64,dtype=int).reshape(8,8)\n",
    "for i in range(len(arr)):\n",
    "    arr[i,i%2::2] = 1\n",
    "print(arr)"
   ]
  },
  {
   "cell_type": "markdown",
   "metadata": {},
   "source": [
    "#### 70 - Consider the vector [1, 2, 3, 4, 5], how to build a new vector with 3 consecutive zeros interleaved between each value? (现有数组[1，2，3，4，5]，如何构建新数组，在原数组的每两个数之间插入3个连续的0)"
   ]
  },
  {
   "cell_type": "code",
   "execution_count": 62,
   "metadata": {},
   "outputs": [
    {
     "name": "stdout",
     "output_type": "stream",
     "text": [
      "[1. 0. 0. 0. 2. 0. 0. 0. 3. 0. 0. 0. 4. 0. 0. 0. 5.]\n"
     ]
    }
   ],
   "source": [
    "# arr = np.array([1,2,3,4,5])\n",
    "# arr1 = np.zeros((len(arr)-1)*3,int).reshape(len(arr)-1,3)\n",
    "# new_array = []\n",
    "# for i in range(len(arr)-1):\n",
    "#     new_array += [arr[i]]+arr1[i].tolist()\n",
    "# new_array += [arr[-1]]\n",
    "# new_array\n",
    "\n",
    "Z = np.array([1,2,3,4,5])\n",
    "nz = 3\n",
    "Z0 = np.zeros(len(Z) + (len(Z)-1)*(nz))\n",
    "Z0[::nz+1] = Z  #原数组切片赋值，改变原数组\n",
    "print(Z0)"
   ]
  }
 ],
 "metadata": {
  "kernelspec": {
   "display_name": "Python 3",
   "language": "python",
   "name": "python3"
  },
  "language_info": {
   "codemirror_mode": {
    "name": "ipython",
    "version": 3
   },
   "file_extension": ".py",
   "mimetype": "text/x-python",
   "name": "python",
   "nbconvert_exporter": "python",
   "pygments_lexer": "ipython3",
   "version": "3.7.4"
  }
 },
 "nbformat": 4,
 "nbformat_minor": 2
}
