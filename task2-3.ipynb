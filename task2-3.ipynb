{
 "cells": [
  {
   "cell_type": "code",
   "execution_count": 2,
   "metadata": {},
   "outputs": [],
   "source": [
    "# coding:utf8\n",
    "\n",
    "import numpy as np"
   ]
  },
  {
   "cell_type": "code",
   "execution_count": 6,
   "metadata": {},
   "outputs": [
    {
     "data": {
      "text/plain": [
       "array([[0, 1, 2],\n",
       "       [3, 4, 5],\n",
       "       [6, 7, 8]])"
      ]
     },
     "execution_count": 6,
     "metadata": {},
     "output_type": "execute_result"
    }
   ],
   "source": [
    "# 创建一个3 * 3的矩阵，其中元素为0至8)\n",
    "\n",
    "arr = np.arange(9).reshape(3,3)\n",
    "arr"
   ]
  },
  {
   "cell_type": "markdown",
   "metadata": {},
   "source": [
    "***\n",
    "## Array Mathematics\n",
    "\n",
    "Basic mathematical functions operate element-wise on arrays. They are available both as operator overloads and as functions in the NumPy module.\n",
    "\n",
    "* Task\n",
    "\n",
    "You are given two integer arrays, A and B of dimensions NxM.\n",
    "Your task is to perform the following operations:\n",
    "\n",
    "Add (A + B)\n",
    "\n",
    "Subtract (A - B)\n",
    "\n",
    "Multiply (A * B)\n",
    "\n",
    "Integer Division (A / B)\n",
    "\n",
    "Mod (A % B)\n",
    "\n",
    "Power (A ** B)\n",
    "\n",
    "* Input Format:\n",
    "\n",
    "The first line contains two space separated integers, N and M.\n",
    "The next N lines contains M space separated integers of array A.\n",
    "The following N lines contains M space separated integers of array B.\n",
    "\n",
    "* Output Format:\n",
    "\n",
    "Print the result of each operation in the given order under Task."
   ]
  },
  {
   "cell_type": "code",
   "execution_count": 40,
   "metadata": {},
   "outputs": [
    {
     "name": "stdout",
     "output_type": "stream",
     "text": [
      "2 3\n",
      "10 14 19\n",
      "13 16 11\n",
      "4 5 6\n",
      "3 6 8\n",
      "[[14 19 25]\n",
      " [16 22 19]]\n",
      "[[ 6  9 13]\n",
      " [10 10  3]]\n",
      "[[ 40  70 114]\n",
      " [ 39  96  88]]\n",
      "[[2 2 3]\n",
      " [4 2 1]]\n",
      "[[2 4 1]\n",
      " [1 4 3]]\n",
      "[[    10000    537824  47045881]\n",
      " [     2197  16777216 214358881]]\n"
     ]
    }
   ],
   "source": [
    "import numpy\n",
    "# 接收键盘输入的行、列数，以空格隔开,分别赋值给x、y\n",
    "x, y = [eval(i) for i in input().strip().split()]\n",
    "# 分别输入两个数组，均以空格隔开，按照行数控制次数，按照列数控制每次的长度\n",
    "arr1 = numpy.array([input().split() for i in range(x)], dtype=int)\n",
    "arr2 = numpy.array([input().split() for i in range(x)], dtype=int)\n",
    "\n",
    "print(arr1 + arr2)\n",
    "print(arr1 - arr2)\n",
    "print(arr1 * arr2)\n",
    "print(arr1 // arr2)\n",
    "print(arr1 % arr2)\n",
    "print(arr1 ** arr2)\n"
   ]
  },
  {
   "cell_type": "markdown",
   "metadata": {},
   "source": [
    "***\n",
    "## Shape and Reshape\n",
    "\n",
    ">shape\n",
    "\n",
    "The shape tool gives a tuple of array dimensions and can be used to change the dimensions of an array.\n",
    "\n",
    "(a) get array dimensions\n",
    "\n",
    "ndarray.shape\n",
    "\n",
    "(b) change array dimensions\n",
    "\n",
    "ndarray.shape = (n,m)\n",
    "\n",
    ">reshape\n",
    "\n",
    "The reshape tool gives a new shape to an array without changing its data. It creates a new array and does not modify the original array itself.\n",
    "```"
   ]
  },
  {
   "cell_type": "markdown",
   "metadata": {},
   "source": [
    "* Task\n",
    "\n",
    "You are given a space separated list of nine integers. Your task is to convert this list into a 3X3 NumPy array.\n",
    "\n",
    "* Input Format\n",
    "\n",
    "A single line of input containing 9 space separated integers.\n",
    "\n",
    "* Output Format\n",
    "\n",
    "Print the 3X3 NumPy array."
   ]
  },
  {
   "cell_type": "code",
   "execution_count": 49,
   "metadata": {},
   "outputs": [
    {
     "name": "stdout",
     "output_type": "stream",
     "text": [
      "1 2 3 4 5 6 7 8 9\n"
     ]
    },
    {
     "data": {
      "text/plain": [
       "array([[1, 2, 3],\n",
       "       [4, 5, 6],\n",
       "       [7, 8, 9]])"
      ]
     },
     "execution_count": 49,
     "metadata": {},
     "output_type": "execute_result"
    }
   ],
   "source": [
    "arr = np.array([eval(i) for i in input().split()])\n",
    "arr.shape = (3,3)\n",
    "arr"
   ]
  },
  {
   "cell_type": "markdown",
   "metadata": {},
   "source": [
    "***\n",
    "## Floor, Ceil and Rint\n",
    "\n",
    ">floor\n",
    "\n",
    "The tool floor returns the floor of the input element-wise.\n",
    "The floor of x is the largest integer i where i<=x.\n",
    "\n",
    ">ceil\n",
    "\n",
    "The tool ceil returns the ceiling of the input element-wise.\n",
    "The ceiling of x is the smallest integer i where i<=x.\n",
    "\n",
    ">rint\n",
    "\n",
    "The rint tool rounds to the nearest integer of input element-wise."
   ]
  },
  {
   "cell_type": "markdown",
   "metadata": {},
   "source": [
    "* Task\n",
    "\n",
    "You are given a 1-D array, A. Your task is to print the floor, ceil and rint of all the elements of A.\n",
    "\n",
    "* Input Format\n",
    "\n",
    "A single line of input containing the space separated elements of array A.\n",
    "\n",
    "* Output Format\n",
    "\n",
    "On the first line, print the floor of A.\n",
    "On the second line, print the ceil of A.\n",
    "On the third line, print the rint of A."
   ]
  },
  {
   "cell_type": "code",
   "execution_count": 54,
   "metadata": {},
   "outputs": [
    {
     "name": "stdout",
     "output_type": "stream",
     "text": [
      "1.1 2.2 3.3 4.4 5.5 6.6 7.7 8.8 9.9\n",
      "[1. 2. 3. 4. 5. 6. 7. 8. 9.]\n",
      "[ 2.  3.  4.  5.  6.  7.  8.  9. 10.]\n",
      "[ 1.  2.  3.  4.  6.  7.  8.  9. 10.]\n"
     ]
    }
   ],
   "source": [
    "A = np.array([eval(i) for i in input().split()])\n",
    "print(np.floor(A))\n",
    "print(np.ceil(A))\n",
    "print(np.rint(A))"
   ]
  }
 ],
 "metadata": {
  "kernelspec": {
   "display_name": "Python 3",
   "language": "python",
   "name": "python3"
  }
 },
 "nbformat": 4,
 "nbformat_minor": 2
}
