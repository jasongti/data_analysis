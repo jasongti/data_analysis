{
 "cells": [
  {
   "cell_type": "code",
   "execution_count": 1,
   "metadata": {},
   "outputs": [],
   "source": [
    "# coding:utf8\n",
    "import numpy as np"
   ]
  },
  {
   "cell_type": "markdown",
   "metadata": {},
   "source": [
    "#### 布尔型索引\n",
    "> NumPy中，ndarray对象的比较运算也是一个矢量化的操作，会产生一个与作比较的ndarray对象shape相同的布尔型数组。\n",
    "\n",
    ">所得到的这个布尔型数组是可以被用于数组的索引的。因此称为布尔索引。布尔数组的长度必须与被索引的轴一致，且可以与切片和普通索引混合使用。\n",
    "\n",
    ">布尔条件式的组合非常丰富，除了==（等于）之外，也可以使用!=（不等于）、&（与）、|（或）、~（非）等符号进行条件式的组合，以达成更复杂的筛选情况。\n",
    "eg. : data[(names == 'Bob') | (names == 'Will')]\n",
    "\n",
    ">布尔索引一个很方便的地方在于它可以不借助循环结构修改数组中符合条件的值。"
   ]
  },
  {
   "cell_type": "markdown",
   "metadata": {},
   "source": [
    "#### 花式索引\n",
    "\n",
    ">花式索引指的是利用整数数组进行索引。注意arr[[4, 3, 0, 6]]与arr[4, 3, 0, 6]的区别，前者是一个花式索引，能够按照指定顺序选取出特定的行子集；而后者是一个索引\n",
    "\n",
    "```\n",
    "arr[[1, 5, 7, 2], [0, 3, 1, 2]] 例子中选出了(1, 0), (5, 3), (7, 1), (2, 2)四个元组所代表的元素\n",
    "```\n",
    "\n",
    ">花式索引和普通索引、切片的区别在于，花式索引所得到的是一个副本，对其进行修改不会影响到原数组中的元素。"
   ]
  },
  {
   "cell_type": "markdown",
   "metadata": {},
   "source": [
    "***\n",
    "\n",
    "#### 25 - Given a 1D array, negate all elements which are between 3 and 8, in place. (给定一个一维数组，将元素值在3至8之间的元素置为其原本的相反数)"
   ]
  },
  {
   "cell_type": "code",
   "execution_count": 10,
   "metadata": {},
   "outputs": [
    {
     "data": {
      "text/plain": [
       "array([-4.11683045,  8.11896041, -6.59840311,  8.49353604,  1.97654766,\n",
       "       -5.75391438,  2.70884531, -3.78892535,  9.57506461, -5.54520246])"
      ]
     },
     "execution_count": 10,
     "metadata": {},
     "output_type": "execute_result"
    }
   ],
   "source": [
    "arr = np.random.random(10)*10\n",
    "arr[(arr<=8)&(arr=>3)] *= -1\n",
    "arr"
   ]
  },
  {
   "cell_type": "markdown",
   "metadata": {},
   "source": [
    "***\n",
    "\n",
    "#### 75 - How to swap two rows of an array? (如何交换一个数组的两行？)"
   ]
  },
  {
   "cell_type": "code",
   "execution_count": 12,
   "metadata": {},
   "outputs": [
    {
     "data": {
      "text/plain": [
       "array([[-0.12533763,  0.42683628, -0.46237324, -0.62945536],\n",
       "       [-0.24825379,  0.27521964,  0.7370104 ,  0.51290651],\n",
       "       [-0.97695516,  0.86438337, -0.31198608,  1.04574   ],\n",
       "       [-0.96560175,  0.85902472,  1.50271155, -0.13416316],\n",
       "       [ 1.15449448, -0.89233372, -0.16615312, -1.75834115],\n",
       "       [-1.15708126, -0.1883109 ,  1.06677824, -0.57129253]])"
      ]
     },
     "execution_count": 12,
     "metadata": {},
     "output_type": "execute_result"
    }
   ],
   "source": [
    "arr1 = np.random.randn(6,4)\n",
    "arr1"
   ]
  },
  {
   "cell_type": "code",
   "execution_count": 14,
   "metadata": {},
   "outputs": [
    {
     "data": {
      "text/plain": [
       "array([[-0.24825379,  0.27521964,  0.7370104 ,  0.51290651],\n",
       "       [-0.12533763,  0.42683628, -0.46237324, -0.62945536],\n",
       "       [-0.97695516,  0.86438337, -0.31198608,  1.04574   ],\n",
       "       [-0.96560175,  0.85902472,  1.50271155, -0.13416316],\n",
       "       [ 1.15449448, -0.89233372, -0.16615312, -1.75834115],\n",
       "       [-1.15708126, -0.1883109 ,  1.06677824, -0.57129253]])"
      ]
     },
     "execution_count": 14,
     "metadata": {},
     "output_type": "execute_result"
    }
   ],
   "source": [
    "arr1[[0,1]] = arr1[[1,0]]\n",
    "arr1"
   ]
  }
 ],
 "metadata": {
  "kernelspec": {
   "display_name": "Python 3",
   "language": "python",
   "name": "python3"
  },
  "language_info": {
   "codemirror_mode": {
    "name": "ipython",
    "version": 3
   },
   "file_extension": ".py",
   "mimetype": "text/x-python",
   "name": "python",
   "nbconvert_exporter": "python",
   "pygments_lexer": "ipython3",
   "version": "3.7.4"
  }
 },
 "nbformat": 4,
 "nbformat_minor": 2
}
