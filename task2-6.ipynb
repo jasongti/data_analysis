{
 "cells": [
  {
   "cell_type": "code",
   "execution_count": 2,
   "metadata": {},
   "outputs": [],
   "source": [
    "# coding:utf8\n",
    "\n",
    "# 数学统计学函数 / sort\n",
    "\n",
    "import numpy as np"
   ]
  },
  {
   "cell_type": "markdown",
   "metadata": {},
   "source": [
    "#### 很多函数既可以当做数组的实例方法调用，也可以当做顶级的NumPy函数使用\n",
    "\n",
    ">arr.mean()\n",
    ">np.mean(arr)\n",
    ">arr.mean(axis=1)\n",
    ">arr.sum(0)\n",
    "\n",
    "```\n",
    "在指定了轴向参数后，得到的结果就是一个比原数组低一维度的ndarray对象.\n",
    "常用的统计函数除了sum, mean, std之外，还有min / max和argmin / argmax。前两者给出极值，后两者给出极值第一次出现的坐标。\n",
    "cumsum与cumprod这两个方法是不聚合的，调用后得到由中间结构组成的数组。前者是求和，后者求积。\n",
    "```\n",
    "\n",
    "```\n",
    "对于布尔型数组而言，上述方法可以使用，但布尔值会被强制转换为1(True)和0(False)。因此sum可以用于对布尔型数组中的True计数。\n",
    "对于布尔型数组而言，any和all是两个比较常用的方法。any用于测试数组中是否存在至少一个True，all用于测试数组中是否全部为True。\n",
    "\n",
    "```"
   ]
  },
  {
   "cell_type": "code",
   "execution_count": 14,
   "metadata": {},
   "outputs": [
    {
     "data": {
      "text/plain": [
       "array([[ 0.04622024,  1.44844796, -1.08248813],\n",
       "       [-0.85085756, -0.72048631,  0.89768201],\n",
       "       [-1.00788851,  0.38836796, -0.59367307]])"
      ]
     },
     "execution_count": 14,
     "metadata": {},
     "output_type": "execute_result"
    }
   ],
   "source": [
    "# arr = np.random.randn(3,3)\n",
    "# arr"
   ]
  },
  {
   "cell_type": "code",
   "execution_count": 15,
   "metadata": {},
   "outputs": [
    {
     "name": "stdout",
     "output_type": "stream",
     "text": [
      "[1 2 1]\n",
      "[0 0 1]\n"
     ]
    }
   ],
   "source": [
    "# print(arr.argmax(1))\n",
    "# print(arr.argmax(0))"
   ]
  },
  {
   "cell_type": "markdown",
   "metadata": {},
   "source": [
    ">any和all也可以被应用于非布尔型数组。在该种情况下，数组中的所有非0元素将会被当做True处理。\n",
    "\n",
    ">NumPy中也提供了sort函数。sort函数也有numpy顶级函数和ndarray本身自带的方法两种。前者返回一个排序好的副本而后者则直接将原数组排序。而且也可以接受轴向参数，在指定轴向上进行排序。(axis默认为最高维度)\n",
    "\n",
    ">sort在使用的时候还可以通过kind参数来选择所用的排序方法"
   ]
  },
  {
   "cell_type": "code",
   "execution_count": 18,
   "metadata": {},
   "outputs": [
    {
     "name": "stdout",
     "output_type": "stream",
     "text": [
      "[[-1.08248813 -0.72048631  0.38836796]\n",
      " [-1.00788851 -0.59367307  0.89768201]\n",
      " [-0.85085756  0.04622024  1.44844796]]\n",
      "None\n",
      "[[-1.08248813 -0.72048631  0.38836796]\n",
      " [-1.00788851 -0.59367307  0.89768201]\n",
      " [-0.85085756  0.04622024  1.44844796]]\n"
     ]
    }
   ],
   "source": [
    "# print(np.sort(arr,axis=0))\n",
    "# print(arr.sort(0))\n",
    "# arr.sort(0)\n",
    "# print(arr)"
   ]
  },
  {
   "cell_type": "code",
   "execution_count": 17,
   "metadata": {},
   "outputs": [
    {
     "name": "stdout",
     "output_type": "stream",
     "text": [
      "[[-1.08248813  0.04622024  1.44844796]\n",
      " [-0.85085756 -0.72048631  0.89768201]\n",
      " [-1.00788851 -0.59367307  0.38836796]]\n",
      "None\n",
      "[[-1.08248813  0.04622024  1.44844796]\n",
      " [-0.85085756 -0.72048631  0.89768201]\n",
      " [-1.00788851 -0.59367307  0.38836796]]\n"
     ]
    }
   ],
   "source": [
    "# print(np.sort(arr,axis=1))\n",
    "# print(arr.sort(1))\n",
    "# arr.sort(1)\n",
    "# print(arr)"
   ]
  },
  {
   "cell_type": "code",
   "execution_count": 16,
   "metadata": {},
   "outputs": [
    {
     "name": "stdout",
     "output_type": "stream",
     "text": [
      "[[-1.08248813  0.04622024  1.44844796]\n",
      " [-0.85085756 -0.72048631  0.89768201]\n",
      " [-1.00788851 -0.59367307  0.38836796]]\n",
      "None\n",
      "[[-1.08248813  0.04622024  1.44844796]\n",
      " [-0.85085756 -0.72048631  0.89768201]\n",
      " [-1.00788851 -0.59367307  0.38836796]]\n"
     ]
    }
   ],
   "source": [
    "# print(np.sort(arr))\n",
    "# print(arr.sort())\n",
    "# arr.sort()\n",
    "# print(arr)"
   ]
  },
  {
   "cell_type": "markdown",
   "metadata": {},
   "source": [
    "***\n",
    "\n",
    "#### 13 - Create a 10x10 array with random values and find the minimum and maximum values (创建一个10x10的随机数组，并找出最小值和最大值)"
   ]
  },
  {
   "cell_type": "code",
   "execution_count": 20,
   "metadata": {},
   "outputs": [
    {
     "name": "stdout",
     "output_type": "stream",
     "text": [
      "[[-1.18768389  0.74349293 -0.85120919 -0.14073961 -0.1557263  -0.05325571\n",
      "  -0.12202211  1.35216534  0.330727    0.48399582]\n",
      " [ 1.67215714 -1.44068072  0.56633299 -1.34723     1.35035893 -0.620901\n",
      "  -1.4332994   0.27666356  0.22800287  0.75134078]\n",
      " [ 1.67827382  1.29526523  1.49540888  1.07136146 -1.21601694 -1.11205265\n",
      "  -0.79299305 -2.40382361 -1.24105223 -0.20843209]\n",
      " [ 0.0762962   1.31507649 -1.51117209 -0.58846195  0.86344439  1.0387913\n",
      "  -0.73910662 -1.04547191  1.05058802 -0.00713958]\n",
      " [ 1.05957691 -0.39868154  1.33453487  2.70566247  1.01333425 -0.47734481\n",
      "  -0.94589274 -0.03980082  0.38422003 -0.49932113]\n",
      " [ 0.24101211  0.85031572  0.91581738 -0.0470743  -1.25015062 -0.68582658\n",
      "  -1.02786895  1.07542478 -0.96145134 -0.07746836]\n",
      " [ 0.05314732  0.78794732  0.90991436  0.1827732  -1.46218787 -1.1953248\n",
      "  -1.66086694 -0.42560289 -0.56492968 -0.58135768]\n",
      " [ 0.30761121  0.02213141 -0.10121845 -0.50031642 -1.39133685 -0.90995517\n",
      "  -0.3942231  -0.96315207 -1.32334866 -0.69270396]\n",
      " [-0.52377817  0.29135037 -0.1706499  -1.52095137  3.20628935 -1.72184588\n",
      "   1.27777339 -1.53604154  1.72914039 -1.27081463]\n",
      " [-1.9127429   0.3366822  -0.14521585 -1.16590694 -0.31533814 -0.31575464\n",
      "   0.3153314  -1.05908021  0.00955214 -0.20207205]]\n",
      "3.2062893519378615\n",
      "-2.403823613627377\n"
     ]
    }
   ],
   "source": [
    "arr1 = np.random.randn(10,10)\n",
    "print(arr1)\n",
    "print(arr1.max())\n",
    "print(arr1.min())"
   ]
  },
  {
   "cell_type": "markdown",
   "metadata": {},
   "source": [
    "***\n",
    "\n",
    "#### 14 - Create a random vector of size 30 and find the mean value (创建一个有30个随机元素的数组并计算其平均值)"
   ]
  },
  {
   "cell_type": "code",
   "execution_count": 22,
   "metadata": {},
   "outputs": [
    {
     "name": "stdout",
     "output_type": "stream",
     "text": [
      "[ 0.46764691  1.73275102 -1.31515802  0.07950632 -0.44963758 -1.35667296\n",
      "  0.95005968 -0.86003583 -0.8881838   0.21283434 -0.93669394 -0.4059836\n",
      "  0.36207175 -1.08530164  0.56785767 -0.3626561   0.98134298 -0.94412119\n",
      "  0.8305189  -0.78877123  0.98768705  0.74432281 -0.15782543  2.07513113\n",
      "  1.30021095 -0.09220617  1.10083539 -1.46304174 -0.12076224  0.56771824]\n",
      "0.05778145578725251\n"
     ]
    }
   ],
   "source": [
    "arr2 = np.random.randn(30)\n",
    "print(arr2)\n",
    "print(np.mean(arr2))"
   ]
  },
  {
   "cell_type": "markdown",
   "metadata": {},
   "source": [
    "***\n",
    "\n",
    "#### 40 - Create a random vector of size 10 and sort it (创建一个有10个随机元素的数组并对其排序)"
   ]
  },
  {
   "cell_type": "code",
   "execution_count": 23,
   "metadata": {},
   "outputs": [
    {
     "name": "stdout",
     "output_type": "stream",
     "text": [
      "[-0.50340174 -2.51374768  0.92488466 -0.23888859 -0.20060041  1.22201796\n",
      "  1.55510037 -1.02849616 -0.106736    0.67334665]\n",
      "[-2.51374768 -1.02849616 -0.50340174 -0.23888859 -0.20060041 -0.106736\n",
      "  0.67334665  0.92488466  1.22201796  1.55510037]\n"
     ]
    }
   ],
   "source": [
    "arr3 = np.random.randn(10)\n",
    "print(arr3)\n",
    "print(np.sort(arr3))"
   ]
  },
  {
   "cell_type": "markdown",
   "metadata": {},
   "source": [
    "***\n",
    "\n",
    "#### 45 - Create random vector of size 10 and replace the maximum value by 0 (创建一个有10个随机元素的数组并将最大值修改为0)"
   ]
  },
  {
   "cell_type": "code",
   "execution_count": 26,
   "metadata": {},
   "outputs": [
    {
     "name": "stdout",
     "output_type": "stream",
     "text": [
      "[ 0.67338781  1.00905918  1.31124742  1.55851835  1.20875605  0.43456798\n",
      " -1.8927495  -0.24237439 -0.05663768 -0.63649857]\n",
      "[ 0.67338781  1.00905918  1.31124742  0.          1.20875605  0.43456798\n",
      " -1.8927495  -0.24237439 -0.05663768 -0.63649857]\n"
     ]
    }
   ],
   "source": [
    "arr4 = np.random.randn(10)\n",
    "print(arr4)\n",
    "arr4[arr4.argmax()] = 0\n",
    "print(arr4)"
   ]
  }
 ],
 "metadata": {
  "kernelspec": {
   "display_name": "Python 3",
   "language": "python",
   "name": "python3"
  },
  "language_info": {
   "codemirror_mode": {
    "name": "ipython",
    "version": 3
   },
   "file_extension": ".py",
   "mimetype": "text/x-python",
   "name": "python",
   "nbconvert_exporter": "python",
   "pygments_lexer": "ipython3",
   "version": "3.7.4"
  }
 },
 "nbformat": 4,
 "nbformat_minor": 2
}
